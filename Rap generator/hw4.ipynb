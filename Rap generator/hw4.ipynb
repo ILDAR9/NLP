{
 "cells": [
  {
   "cell_type": "markdown",
   "metadata": {},
   "source": [
    "### HW 4 Ildar Nurgaliev: song text generator\n",
    "on Russian and English languages\n",
    "\n",
    "data files crawled from http://muzoton.ru/\n",
    "\n",
    "The java crawler is in my github https://github.com/ILDAR9/musicinfo"
   ]
  },
  {
   "cell_type": "code",
   "execution_count": 1,
   "metadata": {
    "collapsed": false
   },
   "outputs": [
    {
     "name": "stdout",
     "output_type": "stream",
     "text": [
      "author.csv  genre.csv  musicinfo.csv  rap_text.csv  shanson_text.csv  text.csv\r\n"
     ]
    }
   ],
   "source": [
    "!ls data"
   ]
  },
  {
   "cell_type": "code",
   "execution_count": 1,
   "metadata": {
    "collapsed": true
   },
   "outputs": [],
   "source": [
    "import itertools\n",
    "import logging\n",
    "logging.basicConfig(format='%(levelname)s : %(message)s', level=logging.INFO)\n",
    "logging.root.level = logging.INFO  # ipython sometimes messes up the logging setup; restore"
   ]
  },
  {
   "cell_type": "code",
   "execution_count": 91,
   "metadata": {
    "collapsed": false
   },
   "outputs": [
    {
     "name": "stderr",
     "output_type": "stream",
     "text": [
      "/home/ildar/miniconda3/envs/ds/lib/python3.5/site-packages/IPython/core/interactiveshell.py:2881: FutureWarning: \n",
      "mpl_style had been deprecated and will be removed in a future version.\n",
      "Use `matplotlib.pyplot.style.use` instead.\n",
      "\n",
      "  exec(code_obj, self.user_global_ns, self.user_ns)\n",
      "/home/ildar/miniconda3/envs/ds/lib/python3.5/site-packages/matplotlib/__init__.py:898: UserWarning: axes.color_cycle is deprecated and replaced with axes.prop_cycle; please use the latter.\n",
      "  warnings.warn(self.msg_depr % (key, alt_key))\n",
      "/home/ildar/miniconda3/envs/ds/lib/python3.5/site-packages/matplotlib/__init__.py:878: UserWarning: axes.color_cycle is deprecated and replaced with axes.prop_cycle; please use the latter.\n",
      "  warnings.warn(self.msg_depr % (key, alt_key))\n"
     ]
    }
   ],
   "source": [
    "import matplotlib\n",
    "import pandas as pd\n",
    "pd.set_option('display.mpl_style', 'default') # Make the graphs a bit prettier\n",
    "def read_csv(fname, col_names):\n",
    "    return pd.read_csv('data/%s.csv' % fname,index_col=col_names[0], names=col_names, header=None, sep='\\\\')"
   ]
  },
  {
   "cell_type": "code",
   "execution_count": 74,
   "metadata": {
    "collapsed": false
   },
   "outputs": [
    {
     "data": {
      "text/html": [
       "<div>\n",
       "<table border=\"1\" class=\"dataframe\">\n",
       "  <thead>\n",
       "    <tr style=\"text-align: right;\">\n",
       "      <th></th>\n",
       "      <th>AUTHOR_NAME</th>\n",
       "    </tr>\n",
       "    <tr>\n",
       "      <th>AUTHOR_ID</th>\n",
       "      <th></th>\n",
       "    </tr>\n",
       "  </thead>\n",
       "  <tbody>\n",
       "    <tr>\n",
       "      <th>105</th>\n",
       "      <td>1.5 кг отличного пюре</td>\n",
       "    </tr>\n",
       "    <tr>\n",
       "      <th>1</th>\n",
       "      <td>1.klas</td>\n",
       "    </tr>\n",
       "    <tr>\n",
       "      <th>1020</th>\n",
       "      <td>12 stones</td>\n",
       "    </tr>\n",
       "  </tbody>\n",
       "</table>\n",
       "</div>"
      ],
      "text/plain": [
       "                     AUTHOR_NAME\n",
       "AUTHOR_ID                       \n",
       "105        1.5 кг отличного пюре\n",
       "1                         1.klas\n",
       "1020                   12 stones"
      ]
     },
     "execution_count": 74,
     "metadata": {},
     "output_type": "execute_result"
    }
   ],
   "source": [
    "authors = read_csv('author', ['AUTHOR_ID','AUTHOR_NAME'])\n",
    "authors[:3]"
   ]
  },
  {
   "cell_type": "code",
   "execution_count": 81,
   "metadata": {
    "collapsed": false
   },
   "outputs": [
    {
     "data": {
      "text/html": [
       "<div>\n",
       "<table border=\"1\" class=\"dataframe\">\n",
       "  <thead>\n",
       "    <tr style=\"text-align: right;\">\n",
       "      <th></th>\n",
       "      <th>GENRE_NAME</th>\n",
       "    </tr>\n",
       "    <tr>\n",
       "      <th>GENRE_ID</th>\n",
       "      <th></th>\n",
       "    </tr>\n",
       "  </thead>\n",
       "  <tbody>\n",
       "    <tr>\n",
       "      <th>8</th>\n",
       "      <td>9maya</td>\n",
       "    </tr>\n",
       "    <tr>\n",
       "      <th>11</th>\n",
       "      <td>jokes</td>\n",
       "    </tr>\n",
       "    <tr>\n",
       "      <th>12</th>\n",
       "      <td>jokes/kvn</td>\n",
       "    </tr>\n",
       "    <tr>\n",
       "      <th>6</th>\n",
       "      <td>kidsong</td>\n",
       "    </tr>\n",
       "    <tr>\n",
       "      <th>5</th>\n",
       "      <td>kinosong</td>\n",
       "    </tr>\n",
       "    <tr>\n",
       "      <th>9</th>\n",
       "      <td>newyear</td>\n",
       "    </tr>\n",
       "    <tr>\n",
       "      <th>2</th>\n",
       "      <td>pop</td>\n",
       "    </tr>\n",
       "    <tr>\n",
       "      <th>1</th>\n",
       "      <td>rap</td>\n",
       "    </tr>\n",
       "    <tr>\n",
       "      <th>3</th>\n",
       "      <td>rock</td>\n",
       "    </tr>\n",
       "    <tr>\n",
       "      <th>4</th>\n",
       "      <td>shanson</td>\n",
       "    </tr>\n",
       "    <tr>\n",
       "      <th>10</th>\n",
       "      <td>svadba</td>\n",
       "    </tr>\n",
       "    <tr>\n",
       "      <th>7</th>\n",
       "      <td>warsong</td>\n",
       "    </tr>\n",
       "  </tbody>\n",
       "</table>\n",
       "</div>"
      ],
      "text/plain": [
       "         GENRE_NAME\n",
       "GENRE_ID           \n",
       "8             9maya\n",
       "11            jokes\n",
       "12        jokes/kvn\n",
       "6           kidsong\n",
       "5          kinosong\n",
       "9           newyear\n",
       "2               pop\n",
       "1               rap\n",
       "3              rock\n",
       "4           shanson\n",
       "10           svadba\n",
       "7           warsong"
      ]
     },
     "execution_count": 81,
     "metadata": {},
     "output_type": "execute_result"
    }
   ],
   "source": [
    "genres = read_csv('genre', ['GENRE_ID','GENRE_NAME'])\n",
    "genr_ids = [1,2,3,4,5,6,7,8,9,10,11,12]\n",
    "genres"
   ]
  },
  {
   "cell_type": "code",
   "execution_count": 76,
   "metadata": {
    "collapsed": false
   },
   "outputs": [
    {
     "data": {
      "text/html": [
       "<div>\n",
       "<table border=\"1\" class=\"dataframe\">\n",
       "  <thead>\n",
       "    <tr style=\"text-align: right;\">\n",
       "      <th></th>\n",
       "      <th>MINFO_NAME</th>\n",
       "      <th>MINFO_TEXT</th>\n",
       "      <th>MINFO_AUTHOR_ID</th>\n",
       "      <th>MINFO_GENRE_ID</th>\n",
       "      <th>MINFO_URL</th>\n",
       "    </tr>\n",
       "    <tr>\n",
       "      <th>MINFO_ID</th>\n",
       "      <th></th>\n",
       "      <th></th>\n",
       "      <th></th>\n",
       "      <th></th>\n",
       "      <th></th>\n",
       "    </tr>\n",
       "  </thead>\n",
       "  <tbody>\n",
       "    <tr>\n",
       "      <th>983</th>\n",
       "      <td>Fool In Love</td>\n",
       "      <td>Mama, I found a man Who loves me and understan...</td>\n",
       "      <td>354.0</td>\n",
       "      <td>2</td>\n",
       "      <td>http://muzoton.ru/2052-rihanna-fool-in-love.html</td>\n",
       "    </tr>\n",
       "    <tr>\n",
       "      <th>984</th>\n",
       "      <td>Red Lipstick</td>\n",
       "      <td>Red lipstick, all on the paper Let me take a h...</td>\n",
       "      <td>354.0</td>\n",
       "      <td>2</td>\n",
       "      <td>http://muzoton.ru/2053-rihanna-red-lipstick.html</td>\n",
       "    </tr>\n",
       "    <tr>\n",
       "      <th>985</th>\n",
       "      <td>Rude Boy</td>\n",
       "      <td>Come here rude boy Boy can you get it up Come ...</td>\n",
       "      <td>354.0</td>\n",
       "      <td>2</td>\n",
       "      <td>http://muzoton.ru/9-rihanna-rude-boy.html</td>\n",
       "    </tr>\n",
       "  </tbody>\n",
       "</table>\n",
       "</div>"
      ],
      "text/plain": [
       "            MINFO_NAME                                         MINFO_TEXT  \\\n",
       "MINFO_ID                                                                    \n",
       "983       Fool In Love  Mama, I found a man Who loves me and understan...   \n",
       "984       Red Lipstick  Red lipstick, all on the paper Let me take a h...   \n",
       "985           Rude Boy  Come here rude boy Boy can you get it up Come ...   \n",
       "\n",
       "          MINFO_AUTHOR_ID  MINFO_GENRE_ID  \\\n",
       "MINFO_ID                                    \n",
       "983                 354.0               2   \n",
       "984                 354.0               2   \n",
       "985                 354.0               2   \n",
       "\n",
       "                                                 MINFO_URL  \n",
       "MINFO_ID                                                    \n",
       "983       http://muzoton.ru/2052-rihanna-fool-in-love.html  \n",
       "984       http://muzoton.ru/2053-rihanna-red-lipstick.html  \n",
       "985              http://muzoton.ru/9-rihanna-rude-boy.html  "
      ]
     },
     "execution_count": 76,
     "metadata": {},
     "output_type": "execute_result"
    }
   ],
   "source": [
    "songs = read_csv('musicinfo', ['MINFO_ID', 'MINFO_NAME', 'MINFO_TEXT', 'MINFO_AUTHOR_ID', 'MINFO_GENRE_ID', 'MINFO_URL'])\n",
    "songs[1000:1003]"
   ]
  },
  {
   "cell_type": "code",
   "execution_count": 80,
   "metadata": {
    "collapsed": false
   },
   "outputs": [
    {
     "data": {
      "image/png": "[encoded data removed]",
      "text/plain": [
       "<matplotlib.figure.Figure at 0x7f58bdf57eb8>"
      ]
     },
     "metadata": {},
     "output_type": "display_data"
    }
   ],
   "source": [
    "counts = songs['MINFO_GENRE_ID'].value_counts()\n",
    "counts.plot(kind='bar')\n",
    "del counts"
   ]
  },
  {
   "cell_type": "code",
   "execution_count": 2,
   "metadata": {
    "collapsed": false
   },
   "outputs": [
    {
     "name": "stderr",
     "output_type": "stream",
     "text": [
      "INFO : read rap_text\n"
     ]
    },
    {
     "name": "stdout",
     "output_type": "stream",
     "text": [
      "(50, 'с легким но колким порывом ветра преодолев сырые подземные километры по светлым станциям и холодным туннелям лови метрополитен мэйл шикарное царство размахом поражающее за копейки приглашает всех желающих куда то спешащих и просто гуляющих бодрых с утра и вечерами засыпающих опаздывающих и уже опоздавших местных шарюших и приезжих от своих отставших и врядли я что то при украшу если просто скажу это все наше ну и как сами видете прикиньте ловите вам подарок от души дорогие жители и тусуитесь там суетиться любуитесь но будьте бдительны и не сорите от края платформы отойдите повышенная опасность вся фигня вы помните мое любимое московское метро вот оно правильно тема про него быстро удобно надежно всегда тепло для нас бесплатно для вас совсем не дорого и я тебе сочувствую если ты не удостоен видеть этой небесной красоты с легким но колким порывом ветра преодолев сырые подземные километры кстати вот сейчас я хотел бы обратиться послушайте уважаемый гости столицы типа жаждущие культурно продвинуться плиз просто спуститесь вниз сюрприз вам это не сниться постарайтесь что то впитать и чем то проникнуться и прежде чем бежать на выставки и в музей прогуляйтесь по нашему подземелью все новое сказочные виды дарит горожанам их атлантида знаете что прошу прощения гости но эта тема посвещена к сожалению тем кто с рождения в этой плоскости главным лицам этого андерграунд представления')\n",
      "(51, 'и все же леше темы помрачней писать гораздо проще так вот отчего все так вообще меня загнали в угол слегка напуган обожаю супругу очень люблю и не лгу да я играю в свою игру злую и игру сука звук убаюкивает какую никакую музыку намучу не зная нот выдаю вам раз в год по кругу сколько я тут не так уж и давно но зато наглухо и надеюсь что на долго слава богу слова буквы и музло способны на многое могут трогать ого го как я не мастер слога и не пророк а так и как долго я буду вот так не факт сергей собянин спасибо за асфальт фскн я не виноват но буду аккуратнее внимания стала многовато это обламывает влияет отвратно заставляет уставать стараюсь в обратку крапали выхватывать но голова одна она шлет привет всем вам еще одно лето позади на год старше алеша уже дед почти а все туда же и даже страшно что там дальше какая ганжа папаша ты с ума сошел а как же тексты песен а ваше какое дело извините вы дайте мне пожить и сами живите как хотите у сами лучшие на свете родители как ни крутите за слова в ответе свидетель бог все видит он един и видимо мы тут необходимы раз он нас пока не скинул братик скрути а давай посидим помолчим подымим и что к чему прикинем на холодильнике магнитик плюс один дебилы из паутины выносят мозги стабильно не книг и не фильмов папа нужен сыну спасает дым без дыма были бы виллы в воздухе запахло осенью ой ну ничего себе в воздухе запахло хип хапом и не слабо мозги выносит то что завернуто в осв проверяем возможности саба пепел на пол')\n"
     ]
    }
   ],
   "source": [
    "from langdetect import detect\n",
    "import re\n",
    "# rap_text shanson_text\n",
    "def get_text(fname='rap_text'):\n",
    "    logging.info(\"read %s\" % fname)\n",
    "    with open('data/%s.csv' % fname, 'r') as f:\n",
    "        for row in f:\n",
    "            row = row.strip()\n",
    "            if detect(row[:20]) == 'ru':\n",
    "                t = re.sub('[a-zA-Z,…\\-\\?!\"#$%()*,./\\\\<>=\\n–—@\\'0-9:;«»\\[\\]êí’`”“]', ' ', row.lower())\n",
    "                t = re.sub(' +', ' ', t)\n",
    "                yield re.sub( '\\s+', ' ', t ).strip()\n",
    "    \n",
    "frm = 50\n",
    "\n",
    "for x in enumerate(itertools.islice(get_text(), frm, frm+2), frm):\n",
    "    print(x)"
   ]
  },
  {
   "cell_type": "code",
   "execution_count": 6,
   "metadata": {
    "collapsed": false
   },
   "outputs": [
    {
     "name": "stderr",
     "output_type": "stream",
     "text": [
      "INFO : read rap_text\n"
     ]
    },
    {
     "name": "stdout",
     "output_type": "stream",
     "text": [
      "255\n"
     ]
    }
   ],
   "source": [
    "# get count of songs\n",
    "print(sum(1 for _ in get_text()))"
   ]
  },
  {
   "cell_type": "markdown",
   "metadata": {},
   "source": [
    "### Develop a Small LSTM Recurrent Neural Network"
   ]
  },
  {
   "cell_type": "code",
   "execution_count": 3,
   "metadata": {
    "collapsed": false,
    "scrolled": true
   },
   "outputs": [
    {
     "name": "stderr",
     "output_type": "stream",
     "text": [
      "Using gpu device 0: GeForce GTX 980 (CNMeM is enabled with initial size: 95.0% of memory, cuDNN not available)\n",
      "Using TensorFlow backend.\n"
     ]
    }
   ],
   "source": [
    "import numpy\n",
    "import os\n",
    "os.environ[\"THEANO_FLAGS\"] = \"mode=FAST_RUN,device=gpu,floatX=float32,lib.cnmem=1\"\n",
    "import theano\n",
    "from keras.models import Sequential\n",
    "from keras.layers import Dense\n",
    "from keras.layers import Dropout\n",
    "from keras.layers import LSTM\n",
    "from keras.callbacks import ModelCheckpoint\n",
    "from keras.utils import np_utils\n",
    "from keras.layers.normalization import BatchNormalization"
   ]
  },
  {
   "cell_type": "code",
   "execution_count": 4,
   "metadata": {
    "collapsed": false
   },
   "outputs": [
    {
     "name": "stdout",
     "output_type": "stream",
     "text": [
      "total 47260\r\n",
      "-rw-r--r-- 1 ildar ildar  153714 Nov 23 10:07 alice.txt\r\n",
      "drwxrwxr-x 2 ildar ildar    4096 Dec  1 13:41 data\r\n",
      "-rw-rw-r-- 1 ildar ildar   55907 Dec 11 23:38 hw4.ipynb\r\n",
      "drwxrwxr-x 2 ildar ildar    4096 Nov 30 18:12 old\r\n",
      "drwxrwxr-x 2 ildar ildar    4096 Dec 11 15:05 rap2_2_gen\r\n",
      "drwxrwxr-x 2 ildar ildar    4096 Dec  7 17:30 rap2_generator\r\n",
      "drwxrwxr-x 2 ildar ildar    4096 Dec 11 15:04 rap3_generator\r\n",
      "drwxrwxr-x 2 ildar ildar    4096 Dec  1 13:43 rap_generator\r\n",
      "drwxrwxr-x 2 ildar ildar    4096 Dec 11 16:26 shanson2_generator\r\n",
      "drwxrwxr-x 2 ildar ildar    4096 Dec  7 17:30 shanson_generator\r\n",
      "-rw-rw-r-- 1 ildar ildar   19314 Dec  9 01:14 Text generation.ipynb\r\n",
      "-rw-rw-r-- 1 ildar ildar 9622640 Dec 11 16:10 weights-2_layer-rap4-00-2.7629.hdf5\r\n",
      "-rw-rw-r-- 1 ildar ildar 9622640 Dec 11 17:19 weights-2_layer-rap4-01-2.3903.hdf5\r\n",
      "-rw-rw-r-- 1 ildar ildar 9622640 Dec 11 18:30 weights-2_layer-rap4-02-2.2072.hdf5\r\n",
      "-rw-rw-r-- 1 ildar ildar 9622640 Dec 11 19:43 weights-2_layer-rap4-03-2.0961.hdf5\r\n",
      "-rw-rw-r-- 1 ildar ildar 9622640 Dec 11 20:55 weights-2_layer-rap4-04-2.0216.hdf5\r\n"
     ]
    }
   ],
   "source": [
    "!ls -l"
   ]
  },
  {
   "cell_type": "markdown",
   "metadata": {},
   "source": [
    "Next, we need to load the ASCII text for the book into memory and convert all of the characters to lowercase to reduce the vocabulary that the network must learn."
   ]
  },
  {
   "cell_type": "code",
   "execution_count": 5,
   "metadata": {
    "collapsed": false
   },
   "outputs": [
    {
     "name": "stderr",
     "output_type": "stream",
     "text": [
      "INFO : read rap_text\n"
     ]
    }
   ],
   "source": [
    "# load ascii text and covert to lowercase\n",
    "raw_text = ' '.join(get_text())"
   ]
  },
  {
   "cell_type": "markdown",
   "metadata": {},
   "source": [
    "Now that the book is loaded, we must prepare the data for modeling by the neural network. We cannot model the characters directly, instead we must convert the characters to integers.\n",
    "\n",
    "We can do this easily by first creating a set of all of the distinct characters in the book, then creating a map of each character to a unique integer."
   ]
  },
  {
   "cell_type": "code",
   "execution_count": 6,
   "metadata": {
    "collapsed": true
   },
   "outputs": [],
   "source": [
    "# create mapping of unique chars to integers\n",
    "chars = sorted(list(set(raw_text)))\n",
    "char_to_int = dict((c, i) for i, c in enumerate(chars))"
   ]
  },
  {
   "cell_type": "code",
   "execution_count": 7,
   "metadata": {
    "collapsed": false
   },
   "outputs": [
    {
     "name": "stdout",
     "output_type": "stream",
     "text": [
      "Total Characters:  520009\n",
      "Total Vocab:  34\n"
     ]
    }
   ],
   "source": [
    "n_chars = len(raw_text)\n",
    "n_vocab = len(chars)\n",
    "print(\"Total Characters: \", n_chars)\n",
    "print(\"Total Vocab: \", n_vocab)"
   ]
  },
  {
   "cell_type": "code",
   "execution_count": 11,
   "metadata": {
    "collapsed": false
   },
   "outputs": [
    {
     "name": "stdout",
     "output_type": "stream",
     "text": [
      "[' ', 'а', 'б', 'в', 'г', 'д', 'е', 'ж', 'з', 'и', 'й', 'к', 'л', 'м', 'н', 'о', 'п', 'р', 'с', 'т', 'у', 'ф', 'х', 'ц', 'ч', 'ш', 'щ', 'ъ', 'ы', 'ь', 'э', 'ю', 'я', 'ё']\n"
     ]
    }
   ],
   "source": [
    "print(chars)"
   ]
  },
  {
   "cell_type": "markdown",
   "metadata": {},
   "source": [
    "We now need to define the training data for the network. There is a lot of flexibility in how you choose to break up the text and expose it to the network during training.\n",
    "\n",
    "Each training pattern of the network is comprised of 100 time steps of one character (X) followed by one character output (y). When creating these sequences, we slide this window along the whole book one character at a time, allowing each character a chance to be learned from the 100 characters that preceded it (except the first 100 characters of course)."
   ]
  },
  {
   "cell_type": "code",
   "execution_count": 8,
   "metadata": {
    "collapsed": false
   },
   "outputs": [
    {
     "name": "stdout",
     "output_type": "stream",
     "text": [
      "Total Patterns:  519909\n"
     ]
    }
   ],
   "source": [
    "# prepare the dataset of input to output pairs encoded as integers\n",
    "seq_length = 100\n",
    "dataX = []\n",
    "dataY = []\n",
    "for i in range(0, n_chars - seq_length, 1):\n",
    "    seq_in = raw_text[i:i + seq_length]\n",
    "    seq_out = raw_text[i + seq_length]\n",
    "    dataX.append([char_to_int[char] for char in seq_in])\n",
    "    dataY.append(char_to_int[seq_out])\n",
    "n_patterns = len(dataX)\n",
    "print(\"Total Patterns: \", n_patterns)"
   ]
  },
  {
   "cell_type": "markdown",
   "metadata": {},
   "source": [
    "Finally, we need to convert the output patterns (single characters converted to integers) into a one hot encoding. This is so that we can configure the network to predict the probability of each of the 47 different characters in the vocabulary (an easier representation) rather than trying to force it to predict precisely the next character. Each y value is converted into a sparse vector with a length of 47, full of zeros except with a 1 in the column for the letter (integer) that the pattern represents."
   ]
  },
  {
   "cell_type": "code",
   "execution_count": 9,
   "metadata": {
    "collapsed": true
   },
   "outputs": [],
   "source": [
    "# reshape X to be [samples, time steps, features]\n",
    "X = numpy.reshape(dataX, (n_patterns, seq_length, 1))\n",
    "# normalize \n",
    "X = X / float(n_vocab)\n",
    "# one hot encode the output variable\n",
    "y = np_utils.to_categorical(dataY)"
   ]
  },
  {
   "cell_type": "markdown",
   "metadata": {},
   "source": [
    "We can now define our LSTM model. Here we define a single hidden LSTM layer with 256 memory units. The network uses dropout with a probability of 20. The output layer is a Dense layer using the softmax activation function to output a probability prediction for each of the 47 characters between 0 and 1."
   ]
  },
  {
   "cell_type": "code",
   "execution_count": 10,
   "metadata": {
    "collapsed": false
   },
   "outputs": [],
   "source": [
    "# define the LSTM model\n",
    "model = Sequential()\n",
    "model.add(LSTM(256, input_shape=(X.shape[1], X.shape[2]), return_sequences=True))\n",
    "model.add(Dropout(0.2))\n",
    "model.add(LSTM(256))\n",
    "model.add(Dropout(0.2))\n",
    "model.add(Dense(y.shape[1], activation='softmax'))\n",
    "model.compile(loss='categorical_crossentropy', optimizer='adam')"
   ]
  },
  {
   "cell_type": "markdown",
   "metadata": {},
   "source": [
    "The network is slow to train (about 300 seconds per epoch on an Nvidia K520 GPU). Because of the slowness and because of our optimization requirements, we will use model checkpointing to record all of the network weights to file each time an improvement in loss is observed at the end of the epoch. We will use the best set of weights (lowest loss) to instantiate our generative model in the next section."
   ]
  },
  {
   "cell_type": "code",
   "execution_count": 11,
   "metadata": {
    "collapsed": true
   },
   "outputs": [],
   "source": [
    "# define the checkpoint\n",
    "filepath=\"weights-2_layer-rap4-{epoch:02d}-{loss:.4f}.hdf5\"\n",
    "checkpoint = ModelCheckpoint(filepath, monitor='loss', verbose=1, save_best_only=True, mode='min')\n",
    "callbacks_list = [checkpoint]"
   ]
  },
  {
   "cell_type": "markdown",
   "metadata": {},
   "source": [
    "We can now fit our model to the data. Here we use a modest number of 20 epochs and a large batch size of 128 patterns."
   ]
  },
  {
   "cell_type": "code",
   "execution_count": null,
   "metadata": {
    "collapsed": false
   },
   "outputs": [
    {
     "name": "stdout",
     "output_type": "stream",
     "text": [
      "Epoch 1/30\n",
      "  8512/526048 [..............................] - ETA: 3874s - loss: 3.0822"
     ]
    }
   ],
   "source": [
    "model.fit(X, y, nb_epoch=30, batch_size=64, callbacks=callbacks_list)"
   ]
  },
  {
   "cell_type": "markdown",
   "metadata": {},
   "source": [
    "### Generating Text with an LSTM Network"
   ]
  },
  {
   "cell_type": "code",
   "execution_count": 12,
   "metadata": {
    "collapsed": false
   },
   "outputs": [],
   "source": [
    "# load the network weights\n",
    "# filename = \"weights-2_layer-rap4-00-2.7629.hdf5\"\n",
    "# filename = \"weights-2_layer-rap4-03-2.0961.hdf5\"\n",
    "filename = \"weights-2_layer-rap4-04-2.0216.hdf5\"\n",
    "model.load_weights(filename)\n",
    "model.compile(loss='categorical_crossentropy', optimizer='adam')"
   ]
  },
  {
   "cell_type": "markdown",
   "metadata": {},
   "source": [
    "### Continue study model"
   ]
  },
  {
   "cell_type": "code",
   "execution_count": null,
   "metadata": {
    "collapsed": true
   },
   "outputs": [],
   "source": [
    "model.fit(X, y, nb_epoch=1, batch_size=64, callbacks=callbacks_list)"
   ]
  },
  {
   "cell_type": "markdown",
   "metadata": {},
   "source": [
    "Also, when preparing the mapping of unique characters to integers, we must also create a reverse mapping that we can use to convert the integers back to characters so that we can understand the predictions."
   ]
  },
  {
   "cell_type": "code",
   "execution_count": 34,
   "metadata": {
    "collapsed": true
   },
   "outputs": [],
   "source": [
    "int_to_char = dict((i, c) for i, c in enumerate(chars))"
   ]
  },
  {
   "cell_type": "code",
   "execution_count": 19,
   "metadata": {
    "collapsed": false
   },
   "outputs": [
    {
     "name": "stdout",
     "output_type": "stream",
     "text": [
      "[18, 3, 15, 17, 1, 24, 9, 3, 1, 10, 0, 5, 6, 12, 1, 0, 18, 19, 1, 17, 28, 10, 19, 17, 9, 0, 24, 1, 18, 1, 0, 5, 15, 0, 18, 1, 13, 15, 12, 6, 19, 1, 3, 9, 8, 1, 0, 16, 1, 18, 16, 15, 17, 19, 1, 0, 4, 15, 19, 15, 3, 28, 3, 15, 19, 0, 15, 14, 9, 0, 0, 14, 15, 3, 28, 6, 18, 12, 15, 3, 14, 15, 0, 17, 15, 5, 9, 3, 25, 9, 18, 29, 0, 8, 1, 14, 15, 3, 15, 18] \n",
      " 100\n"
     ]
    }
   ],
   "source": [
    "pat = []\n",
    "test = \"\"\"\n",
    "Сворачивай дела, старый\n",
    "Три часа до самолета\n",
    "Виза, паспорта готовы\n",
    "Вот они - новые\n",
    "Словно родившись заново\n",
    "С полными кэша карманами\n",
    "Последние минуты в Москве\n",
    "\"\"\"\n",
    "t = re.sub('[a-zA-Z,…\\-?!\"#$%()*,\\n/\\\\<>=–—\\'0-9:@;«»\\[\\]]', '', test.lower() ).strip()[:100]\n",
    "for x in t:\n",
    "    pat.append(char_to_int[x])\n",
    "print(pat, \"\\n\",len(pat))"
   ]
  },
  {
   "cell_type": "markdown",
   "metadata": {},
   "source": [
    "Finally, we need to actually make predictions.\n",
    "\n",
    "The simplest way to use the Keras LSTM model to make predictions is to first start off with a seed sequence as input, generate the next character then update the seed sequence to add the generated character on the end and trim off the first character. This process is repeated for as long as we want to predict new characters (e.g. a sequence of 1,000 characters in length).\n",
    "\n",
    "We can pick a random input pattern as our seed sequence, then print generated characters as we generate them."
   ]
  },
  {
   "cell_type": "code",
   "execution_count": 57,
   "metadata": {
    "collapsed": false
   },
   "outputs": [
    {
     "name": "stdout",
     "output_type": "stream",
     "text": [
      "150201\n",
      "Seed:\n",
      "\" одета но скоро ляжет опять белый снег над игривой листвой но лишь в доме твоём меня всегда ждёт моё  \"\n",
      "сорни не поддолить со мной и постоянно не понять со мной и постоянно не понять со мной и не понять со мной и не понять ты меня не стоишь ты меня не стоишь ты меня не стоишь ты меня не стоишь ты меня не стоишь ты меня не стоишь ты меня не стоишь ты меня не стоишь ты меня не стоишь ты меня не стоишь т\n",
      "Done.\n"
     ]
    }
   ],
   "source": [
    "# pick a random seed\n",
    "start = numpy.random.randint(0, len(dataX)-1)\n",
    "print(start)\n",
    "pattern = dataX[start]\n",
    "# pattern = list(pat)\n",
    "import sys\n",
    "print(\"Seed:\")\n",
    "print(\"\\\"\", ''.join([int_to_char[value] for value in pattern]), \"\\\"\")\n",
    "# generate characters\n",
    "for i in range(300):\n",
    "    x = numpy.reshape(pattern, (1, len(pattern), 1))\n",
    "    x = x / float(n_vocab)\n",
    "    prediction = model.predict(x, verbose=0)\n",
    "    index = numpy.argmax(prediction)\n",
    "    result = int_to_char[index]\n",
    "    seq_in = [int_to_char[value] for value in pattern]\n",
    "    sys.stdout.write(result)\n",
    "    pattern.append(index)\n",
    "    pattern = pattern[1:len(pattern)]\n",
    "print(\"\\nDone.\")"
   ]
  },
  {
   "cell_type": "code",
   "execution_count": null,
   "metadata": {
    "collapsed": true
   },
   "outputs": [],
   "source": []
  }
 ],
 "metadata": {
  "anaconda-cloud": {},
  "kernelspec": {
   "display_name": "Python [conda env:ds]",
   "language": "python",
   "name": "conda-env-ds-py"
  },
  "language_info": {
   "codemirror_mode": {
    "name": "ipython",
    "version": 3
   },
   "file_extension": ".py",
   "mimetype": "text/x-python",
   "name": "python",
   "nbconvert_exporter": "python",
   "pygments_lexer": "ipython3",
   "version": "3.5.2"
  }
 },
 "nbformat": 4,
 "nbformat_minor": 1
}
